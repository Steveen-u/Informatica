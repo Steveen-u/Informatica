{
  "nbformat": 4,
  "nbformat_minor": 0,
  "metadata": {
    "colab": {
      "name": "(06)_Mi_primer_programa.ipynb",
      "provenance": [],
      "collapsed_sections": [],
      "authorship_tag": "ABX9TyNx76h3v+1OQx98QV9QdpSU",
      "include_colab_link": true
    },
    "kernelspec": {
      "name": "python3",
      "display_name": "Python 3"
    },
    "language_info": {
      "name": "python"
    }
  },
  "cells": [
    {
      "cell_type": "markdown",
      "metadata": {
        "id": "view-in-github",
        "colab_type": "text"
      },
      "source": [
        "<a href=\"https://colab.research.google.com/github/Steveen-u/Informatica/blob/main/(06)_Mi_primer_programa.ipynb\" target=\"_parent\"><img src=\"https://colab.research.google.com/assets/colab-badge.svg\" alt=\"Open In Colab\"/></a>"
      ]
    },
    {
      "cell_type": "code",
      "metadata": {
        "id": "7l6xmwmOI44q"
      },
      "source": [
        ""
      ],
      "execution_count": null,
      "outputs": []
    },
    {
      "cell_type": "markdown",
      "metadata": {
        "id": "X1VtSVHuKB9b"
      },
      "source": [
        "### todo ha ido bien\n",
        "\n"
      ]
    },
    {
      "cell_type": "markdown",
      "metadata": {
        "id": "rpWxWpe2rBLl"
      },
      "source": [
        "## operaciones basicas   \n",
        "\n",
        "\n",
        "\n",
        "\n",
        "\n"
      ]
    },
    {
      "cell_type": "code",
      "metadata": {
        "id": "4R_OjQFpKHKg",
        "colab": {
          "base_uri": "https://localhost:8080/"
        },
        "outputId": "8bc30f28-a848-492c-8908-1703f02fceb7"
      },
      "source": [
        "numero = 3\n",
        "numero_dos = 12\n",
        "print (numero + numero_dos)"
      ],
      "execution_count": 6,
      "outputs": [
        {
          "output_type": "stream",
          "name": "stdout",
          "text": [
            "15\n"
          ]
        }
      ]
    },
    {
      "cell_type": "code",
      "metadata": {
        "colab": {
          "base_uri": "https://localhost:8080/"
        },
        "id": "H3nO45ZcqXDD",
        "outputId": "3edadb5f-6df5-4a94-f6e4-2aeb0a629325"
      },
      "source": [
        "numero = 15\n",
        "numero_dos = 10\n",
        "print (numero - numero_dos)"
      ],
      "execution_count": 7,
      "outputs": [
        {
          "output_type": "stream",
          "name": "stdout",
          "text": [
            "5\n"
          ]
        }
      ]
    },
    {
      "cell_type": "code",
      "metadata": {
        "colab": {
          "base_uri": "https://localhost:8080/"
        },
        "id": "yVef_KBYrl-W",
        "outputId": "c2d33368-d579-4486-8974-c18e3c31d9c7"
      },
      "source": [
        "numero = 6\n",
        "numero_dos = 34\n",
        "print (numero * numero_dos)"
      ],
      "execution_count": 8,
      "outputs": [
        {
          "output_type": "stream",
          "name": "stdout",
          "text": [
            "204\n"
          ]
        }
      ]
    },
    {
      "cell_type": "code",
      "metadata": {
        "colab": {
          "base_uri": "https://localhost:8080/"
        },
        "id": "svtQnqKnrttS",
        "outputId": "fe239336-dd3d-47a2-9303-2c6632682ee0"
      },
      "source": [
        "numero = 834\n",
        "numero_dos = 12\n",
        "print (numero / numero_dos)"
      ],
      "execution_count": 9,
      "outputs": [
        {
          "output_type": "stream",
          "name": "stdout",
          "text": [
            "69.5\n"
          ]
        }
      ]
    },
    {
      "cell_type": "code",
      "metadata": {
        "colab": {
          "base_uri": "https://localhost:8080/"
        },
        "id": "Th_uUHZYr7fL",
        "outputId": "5b46bc14-29ac-4000-aa10-006ff4441760"
      },
      "source": [
        "nombre = \"steveen\"\n",
        "apellido = \"restrepo\"\n",
        "nombre_completo = nombre + \" \" + apellido\n",
        "print (nombre_completo.title())"
      ],
      "execution_count": 11,
      "outputs": [
        {
          "output_type": "stream",
          "name": "stdout",
          "text": [
            "Steveen Restrepo\n"
          ]
        }
      ]
    },
    {
      "cell_type": "code",
      "metadata": {
        "colab": {
          "base_uri": "https://localhost:8080/"
        },
        "id": "v05Byk6xsbuS",
        "outputId": "901a52b2-76a4-4b1c-8e5f-a5d78bd07e21"
      },
      "source": [
        "print (nombre_completo.upper())\n",
        "print (nombre_completo.lower())"
      ],
      "execution_count": 13,
      "outputs": [
        {
          "output_type": "stream",
          "name": "stdout",
          "text": [
            "STEVEEN RESTREPO\n",
            "steveen restrepo\n"
          ]
        }
      ]
    },
    {
      "cell_type": "markdown",
      "metadata": {
        "id": "COMY6IM1vvS3"
      },
      "source": [
        "# listas"
      ]
    },
    {
      "cell_type": "code",
      "metadata": {
        "colab": {
          "base_uri": "https://localhost:8080/"
        },
        "id": "iTE0KMnXsxm1",
        "outputId": "7b49d650-0ab9-4429-ef1a-bef7470b2fe9"
      },
      "source": [
        "motos = ['harley', 'ducati', 'yamaha', 'kawasaki', 'indian', 'royal enfield']\n",
        "print (motos)"
      ],
      "execution_count": 30,
      "outputs": [
        {
          "output_type": "stream",
          "name": "stdout",
          "text": [
            "['harley', 'ducati', 'yamaha', 'kawasaki', 'indian', 'royal enfield']\n"
          ]
        }
      ]
    },
    {
      "cell_type": "code",
      "metadata": {
        "colab": {
          "base_uri": "https://localhost:8080/"
        },
        "id": "MaVEc9qQuDu1",
        "outputId": "b98a5aa0-553c-4b71-ca27-74fe18adeb61"
      },
      "source": [
        "print (motos[0].title())\n",
        "print (motos[4].upper())"
      ],
      "execution_count": 31,
      "outputs": [
        {
          "output_type": "stream",
          "name": "stdout",
          "text": [
            "Harley\n",
            "INDIAN\n"
          ]
        }
      ]
    },
    {
      "cell_type": "code",
      "metadata": {
        "colab": {
          "base_uri": "https://localhost:8080/"
        },
        "id": "4Tx6Qa7zvGcO",
        "outputId": "4e8939ee-85c7-49a1-e08a-d94eb93460e3"
      },
      "source": [
        "motos.insert(1, 'suzuki')\n",
        "print (motos)"
      ],
      "execution_count": 33,
      "outputs": [
        {
          "output_type": "stream",
          "name": "stdout",
          "text": [
            "['harley', 'suzuki', 'ducati', 'yamaha', 'kawasaki', 'indian', 'royal enfield']\n"
          ]
        }
      ]
    },
    {
      "cell_type": "code",
      "metadata": {
        "colab": {
          "base_uri": "https://localhost:8080/"
        },
        "id": "_Nf5gTwcvj1R",
        "outputId": "b953bee9-b503-46a2-a235-9a3ff645608a"
      },
      "source": [
        "motos.sort()\n",
        "print (motos)"
      ],
      "execution_count": 34,
      "outputs": [
        {
          "output_type": "stream",
          "name": "stdout",
          "text": [
            "['ducati', 'harley', 'indian', 'kawasaki', 'royal enfield', 'suzuki', 'yamaha']\n"
          ]
        }
      ]
    },
    {
      "cell_type": "code",
      "metadata": {
        "colab": {
          "base_uri": "https://localhost:8080/"
        },
        "id": "DSu4h06sv2FA",
        "outputId": "5eb094de-3d1e-481c-e2aa-16a2157800c1"
      },
      "source": [
        "longitud = len(motos)\n",
        "print (motos)\n",
        "print (longitud)"
      ],
      "execution_count": 35,
      "outputs": [
        {
          "output_type": "stream",
          "name": "stdout",
          "text": [
            "['ducati', 'harley', 'indian', 'kawasaki', 'royal enfield', 'suzuki', 'yamaha']\n",
            "7\n"
          ]
        }
      ]
    }
  ]
}